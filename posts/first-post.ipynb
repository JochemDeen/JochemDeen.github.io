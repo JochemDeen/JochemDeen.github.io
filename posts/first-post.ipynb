{
 "cells": [
  {
   "cell_type": "markdown",
   "metadata": {},
   "source": [
    "At the beginning of this year I received the good news that I will be awarded a Marie Skłodowska-Curie individual fellowship (or just a 'Marie Curie'). This is great news and will finance my research for the next two years starting from April. Part of the fellowship goals (as set by the European commission) is to communicate the research that I do towards the public. I kind of like the idea behind this. I suspect the comissions goal is to make it more visible what it is that they are funding (because right now nobody knows, and everybody wants to leave). But it will be fun for me as well to write about stuff for a non-scientific audience (this means no jargon!).So that's what this blog is going to be about. Me writing about science.\n",
    "\n",
    "What will be featured? Most obvious would be my own research. However, there's not that much to write about all the time. Science moves slow, and writing about failure just depresses me... So I can naturally write about all the cool things that other labs (competitors) are doing (probably this will be depressing as well though: look what they can do that I cannot!) Furthermore, I think I'll probably cover some other things that I think are related in the grand scheme of things. In the end it will probably just boil down to me writing about anything I want."
   ]
  }
 ],
 "metadata": {
  "kernelspec": {
   "display_name": "Python 3",
   "language": "python",
   "name": "python3"
  },
  "language_info": {
   "codemirror_mode": {
    "name": "ipython",
    "version": 3
   },
   "file_extension": ".py",
   "mimetype": "text/x-python",
   "name": "python",
   "nbconvert_exporter": "python",
   "pygments_lexer": "ipython3",
   "version": "3.6.1"
  },
  "nikola": {
   "category": "",
   "date": "2017-07-08 17:15:45 UTC+02:00",
   "description": "",
   "link": "",
   "slug": "first-post",
   "tags": "",
   "title": "First post",
   "type": "text"
  }
 },
 "nbformat": 4,
 "nbformat_minor": 2
}
