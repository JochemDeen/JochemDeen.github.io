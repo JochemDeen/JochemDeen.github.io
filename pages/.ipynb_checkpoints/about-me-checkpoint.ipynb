{
 "cells": [
  {
   "cell_type": "markdown",
   "metadata": {},
   "source": [
    "I started out studying engineering physics in Eindhoven, the Netherlands. During an internship in Albany, New York I got interested in making devices for biological applications. At the time there was a young professor who started out making all sorts of cool bioMEMS devices. This experience made me pursue a master in biophysics. The program director of the biophysics program of KU Leuven pursuaded me to come to Leuven where I spent a little over 7 years. For my master thesis I joined the lab of prof. Johan Hofkens where I continued together with Rob Neely to work on high resolution DNA mapping (at the time also the title of my PhD thesis). After my PhD I joined the lab of prof. Theo Lasser in EPFL, Lausanne, Switzerland, to continue working on DNA mapping but now focused on the microscope side of the method. After one year I received a Marie Curie fellowship to work in the lab of prof. Aleksandra Radenovic, where I am now!\n",
    "\n",
    "During all these years I developed lots of experience covering wet lab biochemical work, microscopy, programming and clean room work.\n",
    "\n",
    "# Skills\n",
    "* Programming\n",
    "    * Matlab (expert)\n",
    "    * Python (good)\n",
    "    * C++ (good)\n",
    "    * Javascript (basic)\n",
    "* Microscopy\n",
    "    * Wide field microscopy\n",
    "    * fluoresence microscopy\n",
    "    * Super resolution microscopy\n",
    "    * Atomic Force Microscopy (AFM)\n",
    "    * Electron microscopy (SEM, TEM)\n",
    "* Clean room experience\n",
    "    * Lithography: ASML Stepper, Laser writing, basic mask aligner\n",
    "    * PVD and CVD\n",
    "    * Wet etching\n",
    "    * Spin coating\n",
    "* Wet lab biochemical\n",
    "    * DNA purification\n",
    "    * Cell Transformation\n",
    "    * Protein purification\n",
    "    * (Q)-PCR\n",
    "    * gel electrophoresis\n",
    "    * Spectroscopy\n",
    "    \n",
    "    \n",
    "    \n",
    " # Experience\n",
    " \n",
    " \n",
    " # Education\n",
    " \n"
   ]
  }
 ],
 "metadata": {
  "kernelspec": {
   "display_name": "Python 3",
   "language": "python",
   "name": "python3"
  },
  "language_info": {
   "codemirror_mode": {
    "name": "ipython",
    "version": 3
   },
   "file_extension": ".py",
   "mimetype": "text/x-python",
   "name": "python",
   "nbconvert_exporter": "python",
   "pygments_lexer": "ipython3",
   "version": "3.6.1"
  },
  "nikola": {
   "category": "",
   "date": "2017-07-08 17:52:45 UTC+02:00",
   "description": "",
   "link": "",
   "slug": "about-me",
   "tags": "",
   "title": "About me",
   "type": "text"
  }
 },
 "nbformat": 4,
 "nbformat_minor": 2
}
